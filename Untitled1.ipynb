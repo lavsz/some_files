{
 "cells": [
  {
   "cell_type": "markdown",
   "metadata": {},
   "source": [
    "Importing plotly in noteboook mode:"
   ]
  },
  {
   "cell_type": "code",
   "execution_count": 28,
   "metadata": {},
   "outputs": [
    {
     "data": {
      "text/html": [
       "        <script type=\"text/javascript\">\n",
       "        window.PlotlyConfig = {MathJaxConfig: 'local'};\n",
       "        if (window.MathJax) {MathJax.Hub.Config({SVG: {font: \"STIX-Web\"}});}\n",
       "        if (typeof require !== 'undefined') {\n",
       "        require.undef(\"plotly\");\n",
       "        requirejs.config({\n",
       "            paths: {\n",
       "                'plotly': ['https://cdn.plot.ly/plotly-latest.min']\n",
       "            }\n",
       "        });\n",
       "        require(['plotly'], function(Plotly) {\n",
       "            window._Plotly = Plotly;\n",
       "        });\n",
       "        }\n",
       "        </script>\n",
       "        "
      ]
     },
     "metadata": {},
     "output_type": "display_data"
    }
   ],
   "source": [
    "import plotly\n",
    "from plotly import graph_objs\n",
    "plotly.offline.init_notebook_mode(connected=True)\n",
    "\n",
    "from plotly.subplots import make_subplots\n",
    "\n",
    "import plotly.graph_objects as go\n",
    "\n",
    "import pandas as pd"
   ]
  },
  {
   "cell_type": "markdown",
   "metadata": {},
   "source": [
    "Create dataframe:"
   ]
  },
  {
   "cell_type": "code",
   "execution_count": 29,
   "metadata": {},
   "outputs": [],
   "source": [
    "df_x = pd.read_csv('table-1.csv')\n",
    "df = df_x.copy()"
   ]
  },
  {
   "cell_type": "code",
   "execution_count": 30,
   "metadata": {},
   "outputs": [
    {
     "data": {
      "text/html": [
       "<div>\n",
       "<style scoped>\n",
       "    .dataframe tbody tr th:only-of-type {\n",
       "        vertical-align: middle;\n",
       "    }\n",
       "\n",
       "    .dataframe tbody tr th {\n",
       "        vertical-align: top;\n",
       "    }\n",
       "\n",
       "    .dataframe thead th {\n",
       "        text-align: right;\n",
       "    }\n",
       "</style>\n",
       "<table border=\"1\" class=\"dataframe\">\n",
       "  <thead>\n",
       "    <tr style=\"text-align: right;\">\n",
       "      <th></th>\n",
       "      <th>Unnamed: 0</th>\n",
       "      <th>Unnamed: 1</th>\n",
       "      <th>ReleaseDate</th>\n",
       "      <th>Movie</th>\n",
       "      <th>ProductionBudget</th>\n",
       "      <th>DomesticGross</th>\n",
       "      <th>WorldwideGross</th>\n",
       "    </tr>\n",
       "  </thead>\n",
       "  <tbody>\n",
       "    <tr>\n",
       "      <th>0</th>\n",
       "      <td>0</td>\n",
       "      <td>1</td>\n",
       "      <td>Apr 23, 2019</td>\n",
       "      <td>Avengers: Endgame</td>\n",
       "      <td>$400,000,000</td>\n",
       "      <td>$858,373,000</td>\n",
       "      <td>$2,797,800,564</td>\n",
       "    </tr>\n",
       "    <tr>\n",
       "      <th>1</th>\n",
       "      <td>1</td>\n",
       "      <td>2</td>\n",
       "      <td>May 20, 2011</td>\n",
       "      <td>Pirates of the Caribbean: On Stranger Tides</td>\n",
       "      <td>$379,000,000</td>\n",
       "      <td>$241,063,875</td>\n",
       "      <td>$1,045,663,875</td>\n",
       "    </tr>\n",
       "    <tr>\n",
       "      <th>2</th>\n",
       "      <td>2</td>\n",
       "      <td>3</td>\n",
       "      <td>Apr 22, 2015</td>\n",
       "      <td>Avengers: Age of Ultron</td>\n",
       "      <td>$365,000,000</td>\n",
       "      <td>$459,005,868</td>\n",
       "      <td>$1,396,099,202</td>\n",
       "    </tr>\n",
       "    <tr>\n",
       "      <th>3</th>\n",
       "      <td>3</td>\n",
       "      <td>4</td>\n",
       "      <td>Dec 16, 2015</td>\n",
       "      <td>Star Wars Ep. VII: The Force Awakens</td>\n",
       "      <td>$306,000,000</td>\n",
       "      <td>$936,662,225</td>\n",
       "      <td>$2,068,223,624</td>\n",
       "    </tr>\n",
       "    <tr>\n",
       "      <th>4</th>\n",
       "      <td>4</td>\n",
       "      <td>5</td>\n",
       "      <td>Apr 25, 2018</td>\n",
       "      <td>Avengers: Infinity War</td>\n",
       "      <td>$300,000,000</td>\n",
       "      <td>$678,815,482</td>\n",
       "      <td>$2,048,359,754</td>\n",
       "    </tr>\n",
       "  </tbody>\n",
       "</table>\n",
       "</div>"
      ],
      "text/plain": [
       "   Unnamed: 0  Unnamed: 1   ReleaseDate  \\\n",
       "0           0           1  Apr 23, 2019   \n",
       "1           1           2  May 20, 2011   \n",
       "2           2           3  Apr 22, 2015   \n",
       "3           3           4  Dec 16, 2015   \n",
       "4           4           5  Apr 25, 2018   \n",
       "\n",
       "                                         Movie ProductionBudget DomesticGross  \\\n",
       "0                            Avengers: Endgame     $400,000,000  $858,373,000   \n",
       "1  Pirates of the Caribbean: On Stranger Tides     $379,000,000  $241,063,875   \n",
       "2                      Avengers: Age of Ultron     $365,000,000  $459,005,868   \n",
       "3         Star Wars Ep. VII: The Force Awakens     $306,000,000  $936,662,225   \n",
       "4                       Avengers: Infinity War     $300,000,000  $678,815,482   \n",
       "\n",
       "   WorldwideGross  \n",
       "0  $2,797,800,564  \n",
       "1  $1,045,663,875  \n",
       "2  $1,396,099,202  \n",
       "3  $2,068,223,624  \n",
       "4  $2,048,359,754  "
      ]
     },
     "execution_count": 30,
     "metadata": {},
     "output_type": "execute_result"
    }
   ],
   "source": [
    "df.head()"
   ]
  },
  {
   "cell_type": "code",
   "execution_count": 31,
   "metadata": {},
   "outputs": [],
   "source": [
    "df.drop(['Unnamed: 0','Unnamed: 1'], axis = 1, inplace = True)"
   ]
  },
  {
   "cell_type": "code",
   "execution_count": 32,
   "metadata": {},
   "outputs": [
    {
     "name": "stdout",
     "output_type": "stream",
     "text": [
      "<class 'pandas.core.frame.DataFrame'>\n",
      "RangeIndex: 100 entries, 0 to 99\n",
      "Data columns (total 5 columns):\n",
      " #   Column            Non-Null Count  Dtype \n",
      "---  ------            --------------  ----- \n",
      " 0   ReleaseDate       100 non-null    object\n",
      " 1   Movie             100 non-null    object\n",
      " 2   ProductionBudget  100 non-null    object\n",
      " 3   DomesticGross     100 non-null    object\n",
      " 4   WorldwideGross    100 non-null    object\n",
      "dtypes: object(5)\n",
      "memory usage: 4.0+ KB\n"
     ]
    }
   ],
   "source": [
    "df.head()\n",
    "df.info()"
   ]
  },
  {
   "cell_type": "code",
   "execution_count": 33,
   "metadata": {},
   "outputs": [],
   "source": [
    "df['ProductionBudget'] = df.ProductionBudget.str.replace('$','').str.replace(',','').astype(int)"
   ]
  },
  {
   "cell_type": "code",
   "execution_count": 34,
   "metadata": {},
   "outputs": [],
   "source": [
    "df['DomesticGross'] = df.DomesticGross.str.replace('$','').str.replace(',','').astype(int)"
   ]
  },
  {
   "cell_type": "code",
   "execution_count": 35,
   "metadata": {},
   "outputs": [],
   "source": [
    "df['WorldwideGross'] = df.WorldwideGross.str.replace('$','').str.replace(',','').astype(int)"
   ]
  },
  {
   "cell_type": "code",
   "execution_count": 36,
   "metadata": {},
   "outputs": [],
   "source": [
    "df['NetEarnings'] = df.WorldwideGross - df.ProductionBudget"
   ]
  },
  {
   "cell_type": "code",
   "execution_count": 37,
   "metadata": {},
   "outputs": [],
   "source": [
    "df['Year'] = df.ReleaseDate.str.replace('.*,','')"
   ]
  },
  {
   "cell_type": "code",
   "execution_count": 38,
   "metadata": {},
   "outputs": [],
   "source": [
    "df.drop('ReleaseDate', axis = 1, inplace = True)"
   ]
  },
  {
   "cell_type": "code",
   "execution_count": 39,
   "metadata": {},
   "outputs": [],
   "source": [
    "df['Year'] = df.Year.astype(int)"
   ]
  },
  {
   "cell_type": "code",
   "execution_count": 40,
   "metadata": {},
   "outputs": [],
   "source": [
    "df = df[df.Year == 2019]"
   ]
  },
  {
   "cell_type": "code",
   "execution_count": 14,
   "metadata": {},
   "outputs": [
    {
     "name": "stdout",
     "output_type": "stream",
     "text": [
      "int64\n",
      "int64\n",
      "int64\n",
      "int64\n",
      "int64\n",
      "['ProductionBudget', 'DomesticGross', 'WorldwideGross', 'NetEarnings', 'Year']\n",
      "ProductionBudget\n",
      "DomesticGross\n",
      "WorldwideGross\n",
      "NetEarnings\n",
      "Year\n"
     ]
    },
    {
     "data": {
      "text/html": [
       "<div>\n",
       "<style scoped>\n",
       "    .dataframe tbody tr th:only-of-type {\n",
       "        vertical-align: middle;\n",
       "    }\n",
       "\n",
       "    .dataframe tbody tr th {\n",
       "        vertical-align: top;\n",
       "    }\n",
       "\n",
       "    .dataframe thead th {\n",
       "        text-align: right;\n",
       "    }\n",
       "</style>\n",
       "<table border=\"1\" class=\"dataframe\">\n",
       "  <thead>\n",
       "    <tr style=\"text-align: right;\">\n",
       "      <th></th>\n",
       "      <th>Movie</th>\n",
       "      <th>ProductionBudget</th>\n",
       "      <th>DomesticGross</th>\n",
       "      <th>WorldwideGross</th>\n",
       "      <th>NetEarnings</th>\n",
       "      <th>Year</th>\n",
       "      <th>ProductionBudget in billions</th>\n",
       "      <th>DomesticGross in billions</th>\n",
       "      <th>WorldwideGross in billions</th>\n",
       "      <th>NetEarnings in billions</th>\n",
       "      <th>Year in billions</th>\n",
       "    </tr>\n",
       "  </thead>\n",
       "  <tbody>\n",
       "    <tr>\n",
       "      <th>0</th>\n",
       "      <td>Avengers: Endgame</td>\n",
       "      <td>400000000</td>\n",
       "      <td>858373000</td>\n",
       "      <td>2797800564</td>\n",
       "      <td>2397800564</td>\n",
       "      <td>2019</td>\n",
       "      <td>0.400</td>\n",
       "      <td>0.858373</td>\n",
       "      <td>2.797801</td>\n",
       "      <td>2.397801</td>\n",
       "      <td>0.000002</td>\n",
       "    </tr>\n",
       "    <tr>\n",
       "      <th>8</th>\n",
       "      <td>Star Wars: The Rise of Skywalker</td>\n",
       "      <td>275000000</td>\n",
       "      <td>515202542</td>\n",
       "      <td>1073469600</td>\n",
       "      <td>798469600</td>\n",
       "      <td>2019</td>\n",
       "      <td>0.275</td>\n",
       "      <td>0.515203</td>\n",
       "      <td>1.073470</td>\n",
       "      <td>0.798470</td>\n",
       "      <td>0.000002</td>\n",
       "    </tr>\n",
       "    <tr>\n",
       "      <th>12</th>\n",
       "      <td>The Lion King</td>\n",
       "      <td>260000000</td>\n",
       "      <td>543638043</td>\n",
       "      <td>1656943394</td>\n",
       "      <td>1396943394</td>\n",
       "      <td>2019</td>\n",
       "      <td>0.260</td>\n",
       "      <td>0.543638</td>\n",
       "      <td>1.656943</td>\n",
       "      <td>1.396943</td>\n",
       "      <td>0.000002</td>\n",
       "    </tr>\n",
       "    <tr>\n",
       "      <th>49</th>\n",
       "      <td>Toy Story 4</td>\n",
       "      <td>200000000</td>\n",
       "      <td>434038008</td>\n",
       "      <td>1073394813</td>\n",
       "      <td>873394813</td>\n",
       "      <td>2019</td>\n",
       "      <td>0.200</td>\n",
       "      <td>0.434038</td>\n",
       "      <td>1.073395</td>\n",
       "      <td>0.873395</td>\n",
       "      <td>0.000002</td>\n",
       "    </tr>\n",
       "    <tr>\n",
       "      <th>62</th>\n",
       "      <td>Fast &amp; Furious Presents: Hobbs &amp; Shaw</td>\n",
       "      <td>200000000</td>\n",
       "      <td>173956935</td>\n",
       "      <td>760574453</td>\n",
       "      <td>560574453</td>\n",
       "      <td>2019</td>\n",
       "      <td>0.200</td>\n",
       "      <td>0.173957</td>\n",
       "      <td>0.760574</td>\n",
       "      <td>0.560574</td>\n",
       "      <td>0.000002</td>\n",
       "    </tr>\n",
       "    <tr>\n",
       "      <th>69</th>\n",
       "      <td>Dark Phoenix</td>\n",
       "      <td>200000000</td>\n",
       "      <td>65845974</td>\n",
       "      <td>246356895</td>\n",
       "      <td>46356895</td>\n",
       "      <td>2019</td>\n",
       "      <td>0.200</td>\n",
       "      <td>0.065846</td>\n",
       "      <td>0.246357</td>\n",
       "      <td>0.046357</td>\n",
       "      <td>0.000002</td>\n",
       "    </tr>\n",
       "    <tr>\n",
       "      <th>86</th>\n",
       "      <td>Maleficent: Mistress of Evil</td>\n",
       "      <td>185000000</td>\n",
       "      <td>113929605</td>\n",
       "      <td>489346495</td>\n",
       "      <td>304346495</td>\n",
       "      <td>2019</td>\n",
       "      <td>0.185</td>\n",
       "      <td>0.113930</td>\n",
       "      <td>0.489346</td>\n",
       "      <td>0.304346</td>\n",
       "      <td>0.000002</td>\n",
       "    </tr>\n",
       "    <tr>\n",
       "      <th>88</th>\n",
       "      <td>Terminator: Dark Fate</td>\n",
       "      <td>185000000</td>\n",
       "      <td>62253077</td>\n",
       "      <td>250372367</td>\n",
       "      <td>65372367</td>\n",
       "      <td>2019</td>\n",
       "      <td>0.185</td>\n",
       "      <td>0.062253</td>\n",
       "      <td>0.250372</td>\n",
       "      <td>0.065372</td>\n",
       "      <td>0.000002</td>\n",
       "    </tr>\n",
       "    <tr>\n",
       "      <th>89</th>\n",
       "      <td>Aladdin</td>\n",
       "      <td>182000000</td>\n",
       "      <td>355559216</td>\n",
       "      <td>1050959216</td>\n",
       "      <td>868959216</td>\n",
       "      <td>2019</td>\n",
       "      <td>0.182</td>\n",
       "      <td>0.355559</td>\n",
       "      <td>1.050959</td>\n",
       "      <td>0.868959</td>\n",
       "      <td>0.000002</td>\n",
       "    </tr>\n",
       "  </tbody>\n",
       "</table>\n",
       "</div>"
      ],
      "text/plain": [
       "                                    Movie  ProductionBudget  DomesticGross  \\\n",
       "0                       Avengers: Endgame         400000000      858373000   \n",
       "8        Star Wars: The Rise of Skywalker         275000000      515202542   \n",
       "12                          The Lion King         260000000      543638043   \n",
       "49                            Toy Story 4         200000000      434038008   \n",
       "62  Fast & Furious Presents: Hobbs & Shaw         200000000      173956935   \n",
       "69                           Dark Phoenix         200000000       65845974   \n",
       "86           Maleficent: Mistress of Evil         185000000      113929605   \n",
       "88                  Terminator: Dark Fate         185000000       62253077   \n",
       "89                                Aladdin         182000000      355559216   \n",
       "\n",
       "    WorldwideGross  NetEarnings  Year  ProductionBudget in billions  \\\n",
       "0       2797800564   2397800564  2019                         0.400   \n",
       "8       1073469600    798469600  2019                         0.275   \n",
       "12      1656943394   1396943394  2019                         0.260   \n",
       "49      1073394813    873394813  2019                         0.200   \n",
       "62       760574453    560574453  2019                         0.200   \n",
       "69       246356895     46356895  2019                         0.200   \n",
       "86       489346495    304346495  2019                         0.185   \n",
       "88       250372367     65372367  2019                         0.185   \n",
       "89      1050959216    868959216  2019                         0.182   \n",
       "\n",
       "    DomesticGross in billions  WorldwideGross in billions  \\\n",
       "0                    0.858373                    2.797801   \n",
       "8                    0.515203                    1.073470   \n",
       "12                   0.543638                    1.656943   \n",
       "49                   0.434038                    1.073395   \n",
       "62                   0.173957                    0.760574   \n",
       "69                   0.065846                    0.246357   \n",
       "86                   0.113930                    0.489346   \n",
       "88                   0.062253                    0.250372   \n",
       "89                   0.355559                    1.050959   \n",
       "\n",
       "    NetEarnings in billions  Year in billions  \n",
       "0                  2.397801          0.000002  \n",
       "8                  0.798470          0.000002  \n",
       "12                 1.396943          0.000002  \n",
       "49                 0.873395          0.000002  \n",
       "62                 0.560574          0.000002  \n",
       "69                 0.046357          0.000002  \n",
       "86                 0.304346          0.000002  \n",
       "88                 0.065372          0.000002  \n",
       "89                 0.868959          0.000002  "
      ]
     },
     "execution_count": 14,
     "metadata": {},
     "output_type": "execute_result"
    }
   ],
   "source": [
    "def select_col(df):\n",
    "    col_list = []\n",
    "    for column in df.columns:\n",
    "        df[column].dtypes\n",
    "        if df[column].dtypes == int:\n",
    "            print(df[column].dtypes)\n",
    "            col_list.append(column)\n",
    "        else: \n",
    "            continue\n",
    "    print(col_list)\n",
    "    return col_list\n",
    "\n",
    "def new_col(df,col_list):\n",
    "    for col in col_list:\n",
    "        print(col)\n",
    "        new_col = col + ' in billions'\n",
    "        df[new_col] = df[col].div(1000000000)\n",
    "    return df\n",
    "\n",
    "new_col(df,select_col(df))"
   ]
  },
  {
   "cell_type": "code",
   "execution_count": 15,
   "metadata": {},
   "outputs": [],
   "source": [
    "#df['ProductionBudget'] = df.ProductionBudget.div(1000000)\n",
    "#df['DomesticGross'] = df.DomesticGross.div(1000000)\n",
    "#df['WorldwideGross'] = df.WorldwideGross.div(1000000000)\n",
    "#df['NetEarnings'] = df.NetEarnings.div(1000000000)"
   ]
  },
  {
   "cell_type": "code",
   "execution_count": 41,
   "metadata": {},
   "outputs": [],
   "source": [
    "df.drop('Year', axis = 1, inplace = True)"
   ]
  },
  {
   "cell_type": "code",
   "execution_count": 42,
   "metadata": {},
   "outputs": [
    {
     "data": {
      "text/html": [
       "<div>\n",
       "<style scoped>\n",
       "    .dataframe tbody tr th:only-of-type {\n",
       "        vertical-align: middle;\n",
       "    }\n",
       "\n",
       "    .dataframe tbody tr th {\n",
       "        vertical-align: top;\n",
       "    }\n",
       "\n",
       "    .dataframe thead th {\n",
       "        text-align: right;\n",
       "    }\n",
       "</style>\n",
       "<table border=\"1\" class=\"dataframe\">\n",
       "  <thead>\n",
       "    <tr style=\"text-align: right;\">\n",
       "      <th></th>\n",
       "      <th>Movie</th>\n",
       "      <th>ProductionBudget</th>\n",
       "      <th>DomesticGross</th>\n",
       "      <th>WorldwideGross</th>\n",
       "      <th>NetEarnings</th>\n",
       "    </tr>\n",
       "  </thead>\n",
       "  <tbody>\n",
       "    <tr>\n",
       "      <th>0</th>\n",
       "      <td>Avengers: Endgame</td>\n",
       "      <td>400000000</td>\n",
       "      <td>858373000</td>\n",
       "      <td>2797800564</td>\n",
       "      <td>2397800564</td>\n",
       "    </tr>\n",
       "    <tr>\n",
       "      <th>8</th>\n",
       "      <td>Star Wars: The Rise of Skywalker</td>\n",
       "      <td>275000000</td>\n",
       "      <td>515202542</td>\n",
       "      <td>1073469600</td>\n",
       "      <td>798469600</td>\n",
       "    </tr>\n",
       "    <tr>\n",
       "      <th>12</th>\n",
       "      <td>The Lion King</td>\n",
       "      <td>260000000</td>\n",
       "      <td>543638043</td>\n",
       "      <td>1656943394</td>\n",
       "      <td>1396943394</td>\n",
       "    </tr>\n",
       "    <tr>\n",
       "      <th>49</th>\n",
       "      <td>Toy Story 4</td>\n",
       "      <td>200000000</td>\n",
       "      <td>434038008</td>\n",
       "      <td>1073394813</td>\n",
       "      <td>873394813</td>\n",
       "    </tr>\n",
       "    <tr>\n",
       "      <th>62</th>\n",
       "      <td>Fast &amp; Furious Presents: Hobbs &amp; Shaw</td>\n",
       "      <td>200000000</td>\n",
       "      <td>173956935</td>\n",
       "      <td>760574453</td>\n",
       "      <td>560574453</td>\n",
       "    </tr>\n",
       "    <tr>\n",
       "      <th>69</th>\n",
       "      <td>Dark Phoenix</td>\n",
       "      <td>200000000</td>\n",
       "      <td>65845974</td>\n",
       "      <td>246356895</td>\n",
       "      <td>46356895</td>\n",
       "    </tr>\n",
       "    <tr>\n",
       "      <th>86</th>\n",
       "      <td>Maleficent: Mistress of Evil</td>\n",
       "      <td>185000000</td>\n",
       "      <td>113929605</td>\n",
       "      <td>489346495</td>\n",
       "      <td>304346495</td>\n",
       "    </tr>\n",
       "    <tr>\n",
       "      <th>88</th>\n",
       "      <td>Terminator: Dark Fate</td>\n",
       "      <td>185000000</td>\n",
       "      <td>62253077</td>\n",
       "      <td>250372367</td>\n",
       "      <td>65372367</td>\n",
       "    </tr>\n",
       "    <tr>\n",
       "      <th>89</th>\n",
       "      <td>Aladdin</td>\n",
       "      <td>182000000</td>\n",
       "      <td>355559216</td>\n",
       "      <td>1050959216</td>\n",
       "      <td>868959216</td>\n",
       "    </tr>\n",
       "  </tbody>\n",
       "</table>\n",
       "</div>"
      ],
      "text/plain": [
       "                                    Movie  ProductionBudget  DomesticGross  \\\n",
       "0                       Avengers: Endgame         400000000      858373000   \n",
       "8        Star Wars: The Rise of Skywalker         275000000      515202542   \n",
       "12                          The Lion King         260000000      543638043   \n",
       "49                            Toy Story 4         200000000      434038008   \n",
       "62  Fast & Furious Presents: Hobbs & Shaw         200000000      173956935   \n",
       "69                           Dark Phoenix         200000000       65845974   \n",
       "86           Maleficent: Mistress of Evil         185000000      113929605   \n",
       "88                  Terminator: Dark Fate         185000000       62253077   \n",
       "89                                Aladdin         182000000      355559216   \n",
       "\n",
       "    WorldwideGross  NetEarnings  \n",
       "0       2797800564   2397800564  \n",
       "8       1073469600    798469600  \n",
       "12      1656943394   1396943394  \n",
       "49      1073394813    873394813  \n",
       "62       760574453    560574453  \n",
       "69       246356895     46356895  \n",
       "86       489346495    304346495  \n",
       "88       250372367     65372367  \n",
       "89      1050959216    868959216  "
      ]
     },
     "execution_count": 42,
     "metadata": {},
     "output_type": "execute_result"
    }
   ],
   "source": [
    "df"
   ]
  },
  {
   "cell_type": "code",
   "execution_count": 18,
   "metadata": {},
   "outputs": [
    {
     "data": {
      "image/png": "[encoded data removed]",
      "text/plain": [
       "<Figure size 432x288 with 1 Axes>"
      ]
     },
     "metadata": {
      "needs_background": "light"
     },
     "output_type": "display_data"
    }
   ],
   "source": [
    "import matplotlib.pyplot as plt\n",
    "import numpy as np\n",
    "\n",
    "x1 = list(df.ProductionBudget)\n",
    "x2 = list(df.NetEarnings)\n",
    "y = list(df.NetEarnings)\n",
    "fig = plt.figure(num=1, clear=True)\n",
    "ax = fig.add_subplot(1, 1, 1)\n",
    "# Plot using red circles\n",
    "ax.plot(x1, y, 'ro')\n",
    "#ax.plot(y, x1, 'gs-', label='Production Budget', markevery=10)\n",
    "ax.plot(y, x2, 'bd:', label='Net Earnings', markevery=20)\n",
    "# Set labels and turn grid on\n",
    "ax.set(xlabel='Production Budget', ylabel='Net Earnings', title='Production Budget to New Earnings')\n",
    "ax.grid(True)\n",
    "#ax.legend(loc='best')\n",
    "# Use space most effectively\n",
    "fig.tight_layout()\n",
    "# Save as a PNG file\n",
    "#fig.savefig('Example2.png')"
   ]
  },
  {
   "cell_type": "code",
   "execution_count": 19,
   "metadata": {},
   "outputs": [
    {
     "data": {
      "image/png": "[encoded data removed]",
      "text/plain": [
       "<Figure size 432x288 with 1 Axes>"
      ]
     },
     "metadata": {
      "needs_background": "light"
     },
     "output_type": "display_data"
    }
   ],
   "source": [
    "import matplotlib.pyplot as plt\n",
    "# Data \n",
    "x = list(df.ProductionBudget)\n",
    "y = list(df.NetEarnings)\n",
    "# Set up figure and axis\n",
    "fig = plt.figure(num=1, clear=True)\n",
    "ax = fig.add_subplot(1, 1, 1)\n",
    "# Plot using red circles\n",
    "ax.plot(x, y, 'ro')\n",
    "# Set labels and turn grid on\n",
    "ax.set(xlabel='Production Budget', ylabel='Net Earnings', title='Budgets & Net Earnings for Movies in 2019')\n",
    "ax.grid(True)\n",
    "# Use space most effectively\n",
    "fig.tight_layout()\n",
    "# Save as a PNG graphics file\n",
    "#fig.savefig('Example1.png')"
   ]
  },
  {
   "cell_type": "code",
   "execution_count": 27,
   "metadata": {},
   "outputs": [
    {
     "data": {
      "text/plain": [
       "[<matplotlib.lines.Line2D at 0x1a1ea4acc0>]"
      ]
     },
     "execution_count": 27,
     "metadata": {},
     "output_type": "execute_result"
    },
    {
     "data": {
      "image/png": "[encoded data removed]",
      "text/plain": [
       "<Figure size 1800x576 with 1 Axes>"
      ]
     },
     "metadata": {},
     "output_type": "display_data"
    }
   ],
   "source": [
    "import numpy as np \n",
    "import pandas as pd \n",
    "import matplotlib.pyplot as plt \n",
    "  \n",
    "Y = df.ProductionBudget  \n",
    "R = df.iloc[61:,3].values  \n",
    "D = df.iloc[61:,5].values  \n",
    "X = df.NetEarnings \n",
    "  \n",
    "plt.figure(figsize=(25,8)) \n",
    "  \n",
    "ax = plt.axes() \n",
    "ax.grid(linewidth=0.4, color='#8f8f8f')  \n",
    "  \n",
    "ax.set_facecolor(\"black\")  \n",
    "ax.set_xlabel('\\nDate',size=25,color='#4bb4f2') \n",
    "ax.set_ylabel('Number of Confirmed Cases\\n', \n",
    "              size=25,color='#4bb4f2') \n",
    "  \n",
    "ax.plot(X,Y, \n",
    "        color='#1F77B4', \n",
    "        marker='o', \n",
    "        linewidth=4, \n",
    "        markersize=15, \n",
    "        markeredgecolor='#035E9B')"
   ]
  },
  {
   "cell_type": "code",
   "execution_count": null,
   "metadata": {},
   "outputs": [],
   "source": []
  }
 ],
 "metadata": {
  "kernelspec": {
   "display_name": "Python [conda env:learn-env] *",
   "language": "python",
   "name": "conda-env-learn-env-py"
  },
  "language_info": {
   "codemirror_mode": {
    "name": "ipython",
    "version": 3
   },
   "file_extension": ".py",
   "mimetype": "text/x-python",
   "name": "python",
   "nbconvert_exporter": "python",
   "pygments_lexer": "ipython3",
   "version": "3.6.10"
  }
 },
 "nbformat": 4,
 "nbformat_minor": 4
}
