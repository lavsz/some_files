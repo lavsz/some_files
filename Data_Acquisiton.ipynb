{
 "cells": [
  {
   "cell_type": "markdown",
   "metadata": {},
   "source": [
    "# Data Acquisition\n",
    "\n",
    "## 1.0 Introduction\n",
    "The project team are scrapping data from the following websites:\n",
    "1. The Numbers: https://www.the-numbers.com/\n",
    "2. The Academy Award Database: http://awardsdatabase.oscars.org/\n",
    "\n",
    "The first half of the notebook contains the procedures taken to scrap the information from The Numbers and data wrangling which includes cleaning, feature engineering, and formating. From this website, the project team obtain the top 100 movies (Overall Revenue) from the past 10 years (aka from 2010 to 2019). \n",
    "\n",
    "The second half of the notebook contains the The first half of the notebook contains the procedures taken to scrap the information from The Academy Award Database and data wrangling which includes cleaning, feature engineering, and formating. From the Award Database, the project obtained all the nominatees from the Best Picture, Animated Feature Film, and Directing from 2010 to 2019. "
   ]
  },
  {
   "cell_type": "code",
   "execution_count": 3,
   "metadata": {
    "collapsed": true
   },
   "outputs": [],
   "source": [
    "import requests\n",
    "from bs4 import BeautifulSoup\n",
    "from requests import get\n",
    "import re\n",
    "import pandas as pd"
   ]
  },
  {
   "cell_type": "markdown",
   "metadata": {},
   "source": [
    "## 2.0 Data Acquisition from The Numbers"
   ]
  },
  {
   "cell_type": "markdown",
   "metadata": {},
   "source": [
    "### 2.1 Building functions to exactract information\n",
    "The following functions are built for making the for loops simpler when obtaining data"
   ]
  },
  {
   "cell_type": "code",
   "execution_count": 4,
   "metadata": {
    "collapsed": true
   },
   "outputs": [],
   "source": [
    "USER_AGENT = \"Mozilla/5.0 (X11; Linux x86_64) AppleWebKit/537.36 (KHTML, like Gecko) Chrome/44.0.2403.157 Safari/537.36\"\n",
    "# US english\n",
    "LANGUAGE = \"en-US,en;q=0.5\"\n",
    "\n",
    "def get_soup(link):\n",
    "    \"\"\"Constructs and returns a soup using the HTML content of `url` passed\"\"\"\n",
    "    # initialize a session\n",
    "    session = requests.Session()\n",
    "    # set the User-Agent as a regular browser\n",
    "    session.headers['User-Agent'] = USER_AGENT\n",
    "    # request for english content (optional)\n",
    "    session.headers['Accept-Language'] = LANGUAGE\n",
    "    session.headers['Content-Language'] = LANGUAGE\n",
    "    # make the request\n",
    "    html = session.get(url)\n",
    "    # return the soup\n",
    "    return bs(html.content, \"html.parser\")"
   ]
  },
  {
   "cell_type": "code",
   "execution_count": 5,
   "metadata": {
    "collapsed": true
   },
   "outputs": [],
   "source": [
    "def get_all_tables(soup):\n",
    "    \"\"\"Extracts and returns all tables in a soup object\"\"\"\n",
    "    return soup.find_all(\"table\")"
   ]
  },
  {
   "cell_type": "code",
   "execution_count": 6,
   "metadata": {
    "collapsed": true
   },
   "outputs": [],
   "source": [
    "def get_table_headers(table):\n",
    "    \"\"\"Given a table soup, returns all the headers\"\"\"\n",
    "    headers = []\n",
    "    for th in table.find(\"tr\").find_all(\"th\"):\n",
    "        headers.append(th.text.strip())\n",
    "    return headers"
   ]
  },
  {
   "cell_type": "code",
   "execution_count": 7,
   "metadata": {
    "collapsed": true
   },
   "outputs": [],
   "source": [
    "def get_table_rows(table):\n",
    "    \"\"\"Given a table, returns all its rows\"\"\"\n",
    "    rows = []\n",
    "    for tr in table.find_all(\"tr\")[1:]:\n",
    "        cells = []\n",
    "        # grab all td tags in this table row\n",
    "        tds = tr.find_all(\"td\")\n",
    "        if len(tds) == 0:\n",
    "            # if no td tags, search for th tags\n",
    "            # can be found especially in wikipedia tables below the table\n",
    "            ths = tr.find_all(\"th\")\n",
    "            for th in ths:\n",
    "                cells.append(th.text.strip())\n",
    "        else:\n",
    "            # use regular td tags\n",
    "            for td in tds:\n",
    "                cells.append(td.text.strip())\n",
    "        rows.append(cells)\n",
    "    return rows"
   ]
  },
  {
   "cell_type": "code",
   "execution_count": 8,
   "metadata": {
    "collapsed": true
   },
   "outputs": [],
   "source": [
    "def save_as_csv(table_name, headers, rows):\n",
    "    pd.DataFrame(rows, columns=headers).to_csv(f\"{table_name}.csv\")"
   ]
  },
  {
   "cell_type": "code",
   "execution_count": 9,
   "metadata": {
    "collapsed": true
   },
   "outputs": [],
   "source": [
    "def main(url):\n",
    "    print(url)\n",
    "# get the soup\n",
    "    soup = get_soup(url)\n",
    "# extract all the tables from the web page\n",
    "    tables = get_all_tables(soup)\n",
    "    print(f\"[+] Found a total of {len(tables)} tables.\")\n",
    "    for table in tables:\n",
    "        headers = get_table_headers(table)\n",
    "        rows = get_table_rows(table)\n",
    "        table_name = f\"table-{num}\"\n",
    "        print(f\"[+] Saving {table_name}\")\n",
    "        save_as_csv(table_name, headers, rows)"
   ]
  },
  {
   "cell_type": "code",
   "execution_count": null,
   "metadata": {
    "collapsed": true
   },
   "outputs": [],
   "source": [
    "num = 0\n",
    "url = 'https://www.the-numbers.com/movies/report/All/All/All/All/All/All/All/All/All/None/None/2020/2020/None/None/None/None/None/None?show-release-date=On&view-order-by=domestic-box-office&show-release-year=On&view-order-direction=desc&show-production-budget=On&show-opening-weekend-theaters=On&show-domestic-box-office=On&show-maximum-theaters=On&show-theatrical-engagements=On&show-international-box-office=On&show-opening-weekend-revenue=On&show-worldwide-box-office=On&show-worldwide-release-date=On&show-theatrical-distributor=On&show-source=On&show-creative-type=On'\n",
    "main(url)\n",
    "\n",
    "# iterate over the-numbers (based on the url characteristics)\n",
    "for i in range(101,6000,+100):\n",
    "    url = ('https://www.the-numbers.com/movie/budgets/all/' + str(i))\n",
    "    main(url)\n",
    "    num += 1"
   ]
  },
  {
   "cell_type": "markdown",
   "metadata": {},
   "source": [
    "### 2.2. Combine all the data together"
   ]
  },
  {
   "cell_type": "code",
   "execution_count": null,
   "metadata": {
    "collapsed": true
   },
   "outputs": [],
   "source": [
    "# stitch together dataframes where axis = 0\n",
    "import pandas as pd\n",
    "\n",
    "def merge_f(x,y):\n",
    "    df = pd.concat([x,y], axis = 0) # generalzing function so i can feed it my list of files\n",
    "    return df\n",
    "\n",
    "df = pd.read_csv('path/file_name_1.csv')\n",
    "\n",
    "# iterate it over a range\n",
    "for i in range(1,11): # represents the number of tables scraped from tn\n",
    "    f = 'path/file_name_' + str(i) + '.csv' \n",
    "    print(f)\n",
    "    y = pd.read_csv(f) # read and store the csv in a dummy variable\n",
    "    df = merge_f(df,y) # name the merged and remerged df\n",
    "\n",
    "df.shape # checking to make sure all the entries made it in"
   ]
  },
  {
   "cell_type": "code",
   "execution_count": null,
   "metadata": {
    "collapsed": true
   },
   "outputs": [],
   "source": [
    "df.to_csv(r'file_name.csv', index = False)"
   ]
  },
  {
   "cell_type": "markdown",
   "metadata": {},
   "source": [
    "### 2.3 Data Cleaning \n",
    "As data has been combine together, the step involves identifying potential issues within the dataframe, adding new features, and make sure the format of values are consistent.  "
   ]
  },
  {
   "cell_type": "code",
   "execution_count": null,
   "metadata": {
    "collapsed": true
   },
   "outputs": [],
   "source": [
    "# Reading the raw data in\n",
    "df_x = pd.read_csv('master_df.csv')\n",
    "\n",
    "# Create a copy from the raw data into a new dataframe\n",
    "df = df_x.copy()\n",
    "\n",
    "# Drop a blank column\n",
    "df.drop('Unnamed: 0', axis = 1, inplace = True)"
   ]
  },
  {
   "cell_type": "code",
   "execution_count": null,
   "metadata": {
    "collapsed": true
   },
   "outputs": [],
   "source": [
    "# Rename the columns to make it clear\n",
    "df.rename(columns = {'Released': 'Year', 'Theatrical Distributor': 'TheatricalDistributor', \n",
    "                     'Production Method': 'ProductionMethod', 'Creative Type': 'CreativeType', \n",
    "                     'Domestic': 'DomesticGross', 'International': 'InternationalGross', \n",
    "                     'Worldwide': 'WorldwideGross'}, inplace = True)"
   ]
  },
  {
   "cell_type": "code",
   "execution_count": null,
   "metadata": {
    "collapsed": true
   },
   "outputs": [],
   "source": [
    "# Formatting the numbers to into integers and get rid of the $\n",
    "df.Budget = df.Budget.str.replace('$','').str.replace('\\,','').astype(int)\n",
    "df.DomesticGross = df.DomesticGross.str.replace('$','').str.replace('\\,','').astype(int)\n",
    "df.InternationalGross= df.InternationalGross.str.replace('$','').str.replace('\\,','').astype(int)\n",
    "df.WorldwideGross = df.WorldwideGross.str.replace('$','').str.replace('\\,','').astype(int)\n"
   ]
  },
  {
   "cell_type": "code",
   "execution_count": null,
   "metadata": {
    "collapsed": true
   },
   "outputs": [],
   "source": [
    "# Create New feature, net profit\n",
    "df['NetProfits'] = df.WorldwideGross - df.Budget"
   ]
  },
  {
   "cell_type": "code",
   "execution_count": null,
   "metadata": {
    "collapsed": true
   },
   "outputs": [],
   "source": [
    "# Overwrite the dataframe into the csv file\n",
    "df.to_csv(r'master_df.csv', index = False)"
   ]
  },
  {
   "cell_type": "markdown",
   "metadata": {},
   "source": [
    "# 3.0 Data Acquisition from the Academy Awards\n",
    "This is a searchable database, if directly using request method to obtain the html content, there is no information. An alternative method was used. The result page's html content was saved and uploaded onto github. The follow process will be using the html information that is in the project repo"
   ]
  },
  {
   "cell_type": "markdown",
   "metadata": {},
   "source": [
    "## 3.1 Data Extraction"
   ]
  },
  {
   "cell_type": "code",
   "execution_count": 11,
   "metadata": {
    "collapsed": true
   },
   "outputs": [],
   "source": [
    "# Read in the raw html file, get the content and build a soup\n",
    "url = 'https://raw.githubusercontent.com/xinegan88/some_files/master/results%20(1).html'\n",
    "res = requests.get(url)\n",
    "soup = BeautifulSoup(res.content, 'html.parser')\n",
    "keywords = soup.find_all('a', class_='nominations-link')"
   ]
  },
  {
   "cell_type": "code",
   "execution_count": 12,
   "metadata": {
    "collapsed": true
   },
   "outputs": [],
   "source": [
    "# Make a list and wrap in all the nomination information\n",
    "list_1 = []\n",
    "for tag in keywords:\n",
    "    list_1.append(tag.text.strip())"
   ]
  },
  {
   "cell_type": "markdown",
   "metadata": {},
   "source": [
    "### 3.2 Data Cleaning and Formatting"
   ]
  },
  {
   "cell_type": "code",
   "execution_count": 14,
   "metadata": {
    "collapsed": true
   },
   "outputs": [],
   "source": [
    "# The list contains nominations from the past 10 years\n",
    "# Let's build a function to find where are the repeating keywords:\n",
    "# The keywords: BEST PICTURE, DIRECTING, and ANIMATED FEATURE FILM\n",
    "def find_dup(list_name, element):\n",
    "    return [i for i, x in enumerate(list_name) if x == element]\n",
    "\n",
    "\n",
    "# Using the function to find the index of those keywords\n",
    "directing = find_dup(list_1, 'DIRECTING')\n",
    "ani = find_dup(list_1, 'ANIMATED FEATURE FILM')\n",
    "pic = find_dup(list_1, 'BEST PICTURE')"
   ]
  },
  {
   "cell_type": "markdown",
   "metadata": {},
   "source": [
    "### 3.2.1 DIRECTING records"
   ]
  },
  {
   "cell_type": "code",
   "execution_count": 15,
   "metadata": {
    "collapsed": true
   },
   "outputs": [],
   "source": [
    "# Now, we know where the keyword (aka. the award category is)\n",
    "# Extracting director information from the list\n",
    "directors = []\n",
    "for index in directing:\n",
    "    directors.append(list_1[index:index+11])\n",
    "    \n",
    "# It is simple as every year as there are five nominations per year\n",
    "x = []\n",
    "y = []\n",
    "\n",
    "for i in range(len(directors)):\n",
    "    a = [directors[i][1], directors[i][3], \n",
    "                              directors[i][5], directors[i][7], directors[i][9]]\n",
    "    b = [directors[i][2], directors[i][4], \n",
    "                              directors[i][6], directors[i][8], directors[i][10]]\n",
    "    x.extend(a)\n",
    "    y.extend(b)"
   ]
  },
  {
   "cell_type": "code",
   "execution_count": 16,
   "metadata": {},
   "outputs": [
    {
     "data": {
      "text/html": [
       "<div>\n",
       "<style scoped>\n",
       "    .dataframe tbody tr th:only-of-type {\n",
       "        vertical-align: middle;\n",
       "    }\n",
       "\n",
       "    .dataframe tbody tr th {\n",
       "        vertical-align: top;\n",
       "    }\n",
       "\n",
       "    .dataframe thead th {\n",
       "        text-align: right;\n",
       "    }\n",
       "</style>\n",
       "<table border=\"1\" class=\"dataframe\">\n",
       "  <thead>\n",
       "    <tr style=\"text-align: right;\">\n",
       "      <th></th>\n",
       "      <th>Year</th>\n",
       "      <th>Movie</th>\n",
       "      <th>Director</th>\n",
       "    </tr>\n",
       "  </thead>\n",
       "  <tbody>\n",
       "    <tr>\n",
       "      <th>0</th>\n",
       "      <td>2010</td>\n",
       "      <td>Black Swan</td>\n",
       "      <td>Darren Aronofsky</td>\n",
       "    </tr>\n",
       "    <tr>\n",
       "      <th>0</th>\n",
       "      <td>2010</td>\n",
       "      <td>The Fighter</td>\n",
       "      <td>David O. Russell</td>\n",
       "    </tr>\n",
       "    <tr>\n",
       "      <th>0</th>\n",
       "      <td>2010</td>\n",
       "      <td>The King's Speech</td>\n",
       "      <td>Tom Hooper</td>\n",
       "    </tr>\n",
       "    <tr>\n",
       "      <th>0</th>\n",
       "      <td>2010</td>\n",
       "      <td>The Social Network</td>\n",
       "      <td>David Fincher</td>\n",
       "    </tr>\n",
       "    <tr>\n",
       "      <th>0</th>\n",
       "      <td>2010</td>\n",
       "      <td>True Grit</td>\n",
       "      <td>Joel Coen and Ethan Coen</td>\n",
       "    </tr>\n",
       "  </tbody>\n",
       "</table>\n",
       "</div>"
      ],
      "text/plain": [
       "   Year               Movie                  Director\n",
       "0  2010          Black Swan          Darren Aronofsky\n",
       "0  2010         The Fighter          David O. Russell\n",
       "0  2010   The King's Speech                Tom Hooper\n",
       "0  2010  The Social Network             David Fincher\n",
       "0  2010           True Grit  Joel Coen and Ethan Coen"
      ]
     },
     "execution_count": 16,
     "metadata": {},
     "output_type": "execute_result"
    }
   ],
   "source": [
    "# Build the directing nomination DataFrame\n",
    "s = pd.Series(range(2010,2020)) # Range of years\n",
    "# Repeat the series for 5 times as there are five nominees every year\n",
    "df_directors = pd.DataFrame({'Year':s.repeat(5),'Movie':x,'Director':y})\n",
    "\n",
    "df_directors.head()"
   ]
  },
  {
   "cell_type": "code",
   "execution_count": 17,
   "metadata": {
    "collapsed": true
   },
   "outputs": [],
   "source": [
    "# Save the dataframe into a csv file\n",
    "df_directors.to_csv('Oscar_directors.csv')"
   ]
  },
  {
   "cell_type": "markdown",
   "metadata": {},
   "source": [
    "### 3.2.2 Animated Film and Best Picture records"
   ]
  },
  {
   "cell_type": "code",
   "execution_count": 26,
   "metadata": {
    "collapsed": true
   },
   "outputs": [],
   "source": [
    "# Unlike directing, the number of nominations on Animated film and Best Picture are not always the same\n",
    "# In general, there are about 8 to 9 best picture nominations, we will assume 9 to max it. \n",
    "# Index would include extra elements if the nominations are less than 9\n",
    "# Extra elements need to not included in the files\n",
    "pictures = []\n",
    "for index in pic:\n",
    "    pictures.append(list_1[index:index+21])"
   ]
  },
  {
   "cell_type": "code",
   "execution_count": 27,
   "metadata": {},
   "outputs": [
    {
     "name": "stdout",
     "output_type": "stream",
     "text": [
      "['True Grit', \"Winter's Bone\"]\n",
      "['War Horse', 'SHORT FILM (Animated)']\n",
      "['Zero Dark Thirty', 'PRODUCTION DESIGN']\n",
      "['The Wolf of Wall Street', 'PRODUCTION DESIGN']\n",
      "['PRODUCTION DESIGN', 'Production Design: Adam Stockhausen; Set Decoration: Anna Pinnock']\n",
      "['PRODUCTION DESIGN', 'Production Design: Adam Stockhausen; Set Decoration: Rena DeAngelo and Bernhard Henrich']\n",
      "['Moonlight', 'PRODUCTION DESIGN']\n",
      "['Three Billboards outside Ebbing, Missouri', 'PRODUCTION DESIGN']\n",
      "['PRODUCTION DESIGN', 'Production Design: Hannah Beachler; Set Decoration: Jay Hart']\n",
      "['Parasite', 'PRODUCTION DESIGN']\n"
     ]
    }
   ],
   "source": [
    "pic_best = []\n",
    "\n",
    "for i in range(len(pictures)):\n",
    "    a = [pictures[i][1], pictures[i][3], \n",
    "                             pictures[i][5], pictures[i][7], \n",
    "         pictures[i][9], pictures[i][11], pictures[i][13], pictures[i][15], \n",
    "         pictures[i][17], pictures[i][19]]\n",
    "\n",
    "    pic_best.append(a)\n",
    "\n",
    "# Let's experiment the last two and see if we got extra information in\n",
    "for i in range(len(pic_best)):\n",
    "    print(pic_best[i][-2:])"
   ]
  },
  {
   "cell_type": "code",
   "execution_count": 28,
   "metadata": {
    "collapsed": true
   },
   "outputs": [],
   "source": [
    "# We did included extra information\n",
    "# The ifrst list is fine but other ones need some work\n",
    "# 6 of them only need to exclude the last item and 3 need to exlude last two \n",
    "\n",
    "for i in [1, 2,3,6,7,9]:\n",
    "    pic_best[i].pop()\n",
    "for i in [4,5,8]:\n",
    "    del pic_best[i][-2:]"
   ]
  },
  {
   "cell_type": "code",
   "execution_count": 29,
   "metadata": {},
   "outputs": [
    {
     "name": "stdout",
     "output_type": "stream",
     "text": [
      "10\n",
      "9\n",
      "9\n",
      "9\n",
      "8\n",
      "8\n",
      "9\n",
      "9\n",
      "8\n",
      "9\n"
     ]
    }
   ],
   "source": [
    "# Let's find out how many films are nominated each year\n",
    "for i in range(len(pic_best)):\n",
    "    print(len(pic_best[i]))"
   ]
  },
  {
   "cell_type": "code",
   "execution_count": 30,
   "metadata": {},
   "outputs": [
    {
     "data": {
      "text/html": [
       "<div>\n",
       "<style scoped>\n",
       "    .dataframe tbody tr th:only-of-type {\n",
       "        vertical-align: middle;\n",
       "    }\n",
       "\n",
       "    .dataframe tbody tr th {\n",
       "        vertical-align: top;\n",
       "    }\n",
       "\n",
       "    .dataframe thead th {\n",
       "        text-align: right;\n",
       "    }\n",
       "</style>\n",
       "<table border=\"1\" class=\"dataframe\">\n",
       "  <thead>\n",
       "    <tr style=\"text-align: right;\">\n",
       "      <th></th>\n",
       "      <th>Year</th>\n",
       "      <th>Movie</th>\n",
       "    </tr>\n",
       "  </thead>\n",
       "  <tbody>\n",
       "    <tr>\n",
       "      <th>0</th>\n",
       "      <td>2010</td>\n",
       "      <td>Black Swan</td>\n",
       "    </tr>\n",
       "    <tr>\n",
       "      <th>0</th>\n",
       "      <td>2010</td>\n",
       "      <td>The Fighter</td>\n",
       "    </tr>\n",
       "    <tr>\n",
       "      <th>0</th>\n",
       "      <td>2010</td>\n",
       "      <td>Inception</td>\n",
       "    </tr>\n",
       "    <tr>\n",
       "      <th>0</th>\n",
       "      <td>2010</td>\n",
       "      <td>The Kids Are All Right</td>\n",
       "    </tr>\n",
       "    <tr>\n",
       "      <th>0</th>\n",
       "      <td>2010</td>\n",
       "      <td>The King's Speech</td>\n",
       "    </tr>\n",
       "  </tbody>\n",
       "</table>\n",
       "</div>"
      ],
      "text/plain": [
       "   Year                   Movie\n",
       "0  2010              Black Swan\n",
       "0  2010             The Fighter\n",
       "0  2010               Inception\n",
       "0  2010  The Kids Are All Right\n",
       "0  2010       The King's Speech"
      ]
     },
     "execution_count": 30,
     "metadata": {},
     "output_type": "execute_result"
    }
   ],
   "source": [
    "# Now we can make the dataframe\n",
    "y = pd.Series(range(2010,2020))\n",
    "years = y.repeat([10,9,9,9,8,8,9,9,8,9])\n",
    "movies =[]\n",
    "for element in pic_best:\n",
    "    movies.extend(element)\n",
    "df_bestpicture = pd.DataFrame({'Year':years,'Movie':movies})\n",
    "df_bestpicture.head()"
   ]
  },
  {
   "cell_type": "code",
   "execution_count": 31,
   "metadata": {
    "collapsed": true
   },
   "outputs": [],
   "source": [
    "df_bestpicture.to_csv('best_picture.csv')"
   ]
  },
  {
   "cell_type": "code",
   "execution_count": 32,
   "metadata": {},
   "outputs": [
    {
     "data": {
      "text/plain": [
       "['ANIMATED FEATURE FILM',\n",
       " 'How to Train Your Dragon',\n",
       " 'Chris Sanders and Dean DeBlois',\n",
       " 'The Illusionist',\n",
       " 'Sylvain Chomet',\n",
       " 'Toy Story 3',\n",
       " 'Lee Unkrich',\n",
       " 'ART DIRECTION',\n",
       " 'Alice in Wonderland',\n",
       " \"Production Design: Robert Stromberg; Set Decoration: Karen O'Hara\",\n",
       " 'Harry Potter and the Deathly Hallows Part 1']"
      ]
     },
     "execution_count": 32,
     "metadata": {},
     "output_type": "execute_result"
    }
   ],
   "source": [
    "# Doing the same for Animated films\n",
    "animated = []\n",
    "for index in ani:\n",
    "    animated.append(list_1[index:index+11])\n",
    "animated[0]"
   ]
  },
  {
   "cell_type": "code",
   "execution_count": 33,
   "metadata": {},
   "outputs": [
    {
     "name": "stdout",
     "output_type": "stream",
     "text": [
      "['ART DIRECTION', \"Production Design: Robert Stromberg; Set Decoration: Karen O'Hara\"]\n",
      "['Puss in Boots', 'Rango']\n",
      "['The Pirates! Band of Misfits', 'Wreck-It Ralph']\n",
      "['Frozen', 'The Wind Rises']\n",
      "['Song of the Sea', 'The Tale of the Princess Kaguya']\n",
      "['Shaun the Sheep Movie', 'When Marnie Was There']\n",
      "['The Red Turtle', 'Zootopia']\n",
      "['Ferdinand', 'Loving Vincent']\n",
      "['Ralph Breaks the Internet', 'Spider-Man: Into the Spider-Verse']\n",
      "['Missing Link', 'Toy Story 4']\n"
     ]
    }
   ],
   "source": [
    "anim = []\n",
    "for i in range(len(animated)):\n",
    "    a = [animated[i][1], animated[i][3], \n",
    "                             animated[i][5], animated[i][7], \n",
    "        animated[i][9]]\n",
    "    anim.append(a)\n",
    "for i in range(len(anim)):\n",
    "    print(anim[i][-2:])"
   ]
  },
  {
   "cell_type": "code",
   "execution_count": 34,
   "metadata": {
    "collapsed": true
   },
   "outputs": [],
   "source": [
    "# Only need to clean the first one\n",
    "for i in [0]:\n",
    "    del anim[0][-2:]"
   ]
  },
  {
   "cell_type": "code",
   "execution_count": 35,
   "metadata": {},
   "outputs": [
    {
     "name": "stdout",
     "output_type": "stream",
     "text": [
      "3\n",
      "5\n",
      "5\n",
      "5\n",
      "5\n",
      "5\n",
      "5\n",
      "5\n",
      "5\n",
      "5\n"
     ]
    }
   ],
   "source": [
    "for i in range(len(anim)):\n",
    "    print(len(anim[i]))"
   ]
  },
  {
   "cell_type": "code",
   "execution_count": 36,
   "metadata": {},
   "outputs": [
    {
     "data": {
      "text/html": [
       "<div>\n",
       "<style scoped>\n",
       "    .dataframe tbody tr th:only-of-type {\n",
       "        vertical-align: middle;\n",
       "    }\n",
       "\n",
       "    .dataframe tbody tr th {\n",
       "        vertical-align: top;\n",
       "    }\n",
       "\n",
       "    .dataframe thead th {\n",
       "        text-align: right;\n",
       "    }\n",
       "</style>\n",
       "<table border=\"1\" class=\"dataframe\">\n",
       "  <thead>\n",
       "    <tr style=\"text-align: right;\">\n",
       "      <th></th>\n",
       "      <th>Year</th>\n",
       "      <th>Movie</th>\n",
       "    </tr>\n",
       "  </thead>\n",
       "  <tbody>\n",
       "    <tr>\n",
       "      <th>0</th>\n",
       "      <td>2010</td>\n",
       "      <td>How to Train Your Dragon</td>\n",
       "    </tr>\n",
       "    <tr>\n",
       "      <th>0</th>\n",
       "      <td>2010</td>\n",
       "      <td>The Illusionist</td>\n",
       "    </tr>\n",
       "    <tr>\n",
       "      <th>0</th>\n",
       "      <td>2010</td>\n",
       "      <td>Toy Story 3</td>\n",
       "    </tr>\n",
       "    <tr>\n",
       "      <th>1</th>\n",
       "      <td>2011</td>\n",
       "      <td>A Cat in Paris</td>\n",
       "    </tr>\n",
       "    <tr>\n",
       "      <th>1</th>\n",
       "      <td>2011</td>\n",
       "      <td>Chico &amp; Rita</td>\n",
       "    </tr>\n",
       "  </tbody>\n",
       "</table>\n",
       "</div>"
      ],
      "text/plain": [
       "   Year                     Movie\n",
       "0  2010  How to Train Your Dragon\n",
       "0  2010           The Illusionist\n",
       "0  2010               Toy Story 3\n",
       "1  2011            A Cat in Paris\n",
       "1  2011              Chico & Rita"
      ]
     },
     "execution_count": 36,
     "metadata": {},
     "output_type": "execute_result"
    }
   ],
   "source": [
    "y = pd.Series(range(2010,2020))\n",
    "years = y.repeat([3,5,5,5,5,5,5,5,5,5])\n",
    "animations =[]\n",
    "for element in anim:\n",
    "    animations.extend(element)\n",
    "df_animations = pd.DataFrame({'Year':years,'Movie':animations})\n",
    "df_animations.head()"
   ]
  },
  {
   "cell_type": "code",
   "execution_count": 37,
   "metadata": {
    "collapsed": true
   },
   "outputs": [],
   "source": [
    "df_animations.to_csv('Animated_feature_film.csv')"
   ]
  },
  {
   "cell_type": "code",
   "execution_count": null,
   "metadata": {
    "collapsed": true
   },
   "outputs": [],
   "source": []
  }
 ],
 "metadata": {
  "kernelspec": {
   "display_name": "learn-env",
   "language": "python",
   "name": "learn-env"
  },
  "language_info": {
   "codemirror_mode": {
    "name": "ipython",
    "version": 3
   },
   "file_extension": ".py",
   "mimetype": "text/x-python",
   "name": "python",
   "nbconvert_exporter": "python",
   "pygments_lexer": "ipython3",
   "version": "3.6.9"
  }
 },
 "nbformat": 4,
 "nbformat_minor": 4
}
