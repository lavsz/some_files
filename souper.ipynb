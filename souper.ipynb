{
 "cells": [
  {
   "cell_type": "code",
   "execution_count": 3,
   "metadata": {},
   "outputs": [
    {
     "name": "stdout",
     "output_type": "stream",
     "text": [
      "Collecting beautiful\n",
      "  Downloading beautiful-0.0.2-py3-none-any.whl (3.0 kB)\n",
      "Collecting soup\n",
      "  Downloading soup-0.1.0.tar.gz (528 bytes)\n",
      "Building wheels for collected packages: soup\n",
      "  Building wheel for soup (setup.py) ... \u001b[?25ldone\n",
      "\u001b[?25h  Created wheel for soup: filename=soup-0.1.0-py3-none-any.whl size=1406 sha256=40b155bffc0a30629b36a087dcdab9906b143f043033aedc9ffdaa78f6d8a792\n",
      "  Stored in directory: /Users/christine/Library/Caches/pip/wheels/ea/4e/9f/e0ae399e9c9422307dca388919588ca8889727a9eb29e07873\n",
      "Successfully built soup\n",
      "Installing collected packages: beautiful, soup\n",
      "Successfully installed beautiful-0.0.2 soup-0.1.0\n",
      "Note: you may need to restart the kernel to use updated packages.\n"
     ]
    }
   ],
   "source": [
    "pip install beautiful soup"
   ]
  },
  {
   "cell_type": "code",
   "execution_count": 4,
   "metadata": {},
   "outputs": [
    {
     "name": "stdout",
     "output_type": "stream",
     "text": [
      "Collecting bs4\n",
      "  Downloading bs4-0.0.1.tar.gz (1.1 kB)\n",
      "Requirement already satisfied: beautifulsoup4 in /opt/anaconda3/envs/learn-env/lib/python3.6/site-packages (from bs4) (4.9.0)\n",
      "Requirement already satisfied: soupsieve>1.2 in /opt/anaconda3/envs/learn-env/lib/python3.6/site-packages (from beautifulsoup4->bs4) (2.0.1)\n",
      "Building wheels for collected packages: bs4\n",
      "  Building wheel for bs4 (setup.py) ... \u001b[?25ldone\n",
      "\u001b[?25h  Created wheel for bs4: filename=bs4-0.0.1-py3-none-any.whl size=1272 sha256=07493d0dcc84a540f9d646c3026eaef9ea2ba6584367bf67947c9d1ce4da4bc1\n",
      "  Stored in directory: /Users/christine/Library/Caches/pip/wheels/19/f5/6d/a97dd4f22376d4472d5f4c76c7646876052ff3166b3cf71050\n",
      "Successfully built bs4\n",
      "Installing collected packages: bs4\n",
      "Successfully installed bs4-0.0.1\n",
      "Note: you may need to restart the kernel to use updated packages.\n"
     ]
    }
   ],
   "source": [
    "pip install bs4"
   ]
  },
  {
   "cell_type": "code",
   "execution_count": 5,
   "metadata": {},
   "outputs": [
    {
     "name": "stdout",
     "output_type": "stream",
     "text": [
      "Requirement already satisfied: requests in /opt/anaconda3/envs/learn-env/lib/python3.6/site-packages (2.23.0)\n",
      "Requirement already satisfied: certifi>=2017.4.17 in /opt/anaconda3/envs/learn-env/lib/python3.6/site-packages (from requests) (2020.6.20)\n",
      "Requirement already satisfied: urllib3!=1.25.0,!=1.25.1,<1.26,>=1.21.1 in /opt/anaconda3/envs/learn-env/lib/python3.6/site-packages (from requests) (1.25.8)\n",
      "Requirement already satisfied: idna<3,>=2.5 in /opt/anaconda3/envs/learn-env/lib/python3.6/site-packages (from requests) (2.9)\n",
      "Requirement already satisfied: chardet<4,>=3.0.2 in /opt/anaconda3/envs/learn-env/lib/python3.6/site-packages (from requests) (3.0.4)\n",
      "Note: you may need to restart the kernel to use updated packages.\n"
     ]
    }
   ],
   "source": [
    "pip install requests"
   ]
  },
  {
   "cell_type": "code",
   "execution_count": 1,
   "metadata": {},
   "outputs": [],
   "source": [
    "import requests\n",
    "import pandas as pd\n",
    "from bs4 import BeautifulSoup as bs"
   ]
  },
  {
   "cell_type": "code",
   "execution_count": 2,
   "metadata": {},
   "outputs": [],
   "source": [
    "USER_AGENT = \"Mozilla/5.0 (X11; Linux x86_64) AppleWebKit/537.36 (KHTML, like Gecko) Chrome/44.0.2403.157 Safari/537.36\"\n",
    "# US english\n",
    "LANGUAGE = \"en-US,en;q=0.5\"\n",
    "\n",
    "def get_soup(url):\n",
    "    \"\"\"Constructs and returns a soup using the HTML content of `url` passed\"\"\"\n",
    "    # initialize a session\n",
    "    session = requests.Session()\n",
    "    # set the User-Agent as a regular browser\n",
    "    session.headers['User-Agent'] = USER_AGENT\n",
    "    # request for english content (optional)\n",
    "    session.headers['Accept-Language'] = LANGUAGE\n",
    "    session.headers['Content-Language'] = LANGUAGE\n",
    "    # make the request\n",
    "    html = session.get(url)\n",
    "    # return the soup\n",
    "    return bs(html.content, \"html.parser\")"
   ]
  },
  {
   "cell_type": "code",
   "execution_count": 3,
   "metadata": {},
   "outputs": [],
   "source": [
    "def get_all_tables(soup):\n",
    "    \"\"\"Extracts and returns all tables in a soup object\"\"\"\n",
    "    return soup.find_all(\"table\")"
   ]
  },
  {
   "cell_type": "code",
   "execution_count": 4,
   "metadata": {},
   "outputs": [],
   "source": [
    "def get_table_headers(table):\n",
    "    \"\"\"Given a table soup, returns all the headers\"\"\"\n",
    "    headers = []\n",
    "    for th in table.find(\"tr\").find_all(\"th\"):\n",
    "        headers.append(th.text.strip())\n",
    "    return headers"
   ]
  },
  {
   "cell_type": "code",
   "execution_count": 5,
   "metadata": {},
   "outputs": [],
   "source": [
    "def get_table_rows(table):\n",
    "    \"\"\"Given a table, returns all its rows\"\"\"\n",
    "    rows = []\n",
    "    for tr in table.find_all(\"tr\")[1:]:\n",
    "        cells = []\n",
    "        # grab all td tags in this table row\n",
    "        tds = tr.find_all(\"td\")\n",
    "        if len(tds) == 0:\n",
    "            # if no td tags, search for th tags\n",
    "            # can be found especially in wikipedia tables below the table\n",
    "            ths = tr.find_all(\"th\")\n",
    "            for th in ths:\n",
    "                cells.append(th.text.strip())\n",
    "        else:\n",
    "            # use regular td tags\n",
    "            for td in tds:\n",
    "                cells.append(td.text.strip())\n",
    "        rows.append(cells)\n",
    "    return rows"
   ]
  },
  {
   "cell_type": "code",
   "execution_count": 6,
   "metadata": {},
   "outputs": [],
   "source": [
    "def save_as_csv(table_name, headers, rows):\n",
    "    pd.DataFrame(rows, columns=headers).to_csv(f\"{table_name}.csv\")"
   ]
  },
  {
   "cell_type": "code",
   "execution_count": 7,
   "metadata": {},
   "outputs": [],
   "source": [
    "def main(url):\n",
    "    # get the soup\n",
    "    soup = get_soup(url)\n",
    "    # extract all the tables from the web page\n",
    "    tables = get_all_tables(soup)\n",
    "    print(f\"[+] Found a total of {len(tables)} tables.\")\n",
    "    # iterate over all tables\n",
    "    for i, table in enumerate(tables, start=1):\n",
    "        # get the table headers\n",
    "        headers = get_table_headers(table)\n",
    "        # get all the rows of the table\n",
    "        rows = get_table_rows(table)\n",
    "        # save table as csv file\n",
    "        table_name = f\"table-{i}\"\n",
    "        print(f\"[+] Saving {table_name}\")\n",
    "        save_as_csv(table_name, headers, rows)"
   ]
  },
  {
   "cell_type": "code",
   "execution_count": 10,
   "metadata": {},
   "outputs": [
    {
     "name": "stdout",
     "output_type": "stream",
     "text": [
      "[+] Found a total of 1 tables.\n",
      "[+] Saving table-1\n"
     ]
    }
   ],
   "source": [
    "if __name__ == \"__main__\":\n",
    "    import sys\n",
    "    try:\n",
    "        url = sys.argv[1]\n",
    "    except IndexError:\n",
    "        print(\"Please specify a URL.\\nUsage: python html_table_extractor.py [URL]\")\n",
    "        exit(1)\n",
    "    main('https://www.the-numbers.com/movie/budgets/all')"
   ]
  },
  {
   "cell_type": "code",
   "execution_count": null,
   "metadata": {},
   "outputs": [],
   "source": []
  }
 ],
 "metadata": {
  "kernelspec": {
   "display_name": "Python [conda env:learn-env] *",
   "language": "python",
   "name": "conda-env-learn-env-py"
  },
  "language_info": {
   "codemirror_mode": {
    "name": "ipython",
    "version": 3
   },
   "file_extension": ".py",
   "mimetype": "text/x-python",
   "name": "python",
   "nbconvert_exporter": "python",
   "pygments_lexer": "ipython3",
   "version": "3.6.10"
  }
 },
 "nbformat": 4,
 "nbformat_minor": 4
}
